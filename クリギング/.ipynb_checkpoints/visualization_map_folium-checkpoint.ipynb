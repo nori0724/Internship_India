{
 "cells": [
  {
   "cell_type": "code",
   "execution_count": 222,
   "metadata": {},
   "outputs": [],
   "source": [
    "#!pip install folium"
   ]
  },
  {
   "cell_type": "code",
   "execution_count": 1,
   "metadata": {},
   "outputs": [],
   "source": [
    "import pandas as pd\n",
    "import folium\n",
    "from folium import plugins"
   ]
  },
  {
   "cell_type": "code",
   "execution_count": 2,
   "metadata": {},
   "outputs": [],
   "source": [
    "df=pd.read_excel(\"/Users/masanoritakahashi/Documents/aqi/Kriging/PM25Data.xlsx\", header=1)\n",
    "#df=pd.read_csv(\"/Users/masanoritakahashi/Documents/aqi/Kriging/after_kriging2.csv\").iloc[:,1:]"
   ]
  },
  {
   "cell_type": "code",
   "execution_count": 3,
   "metadata": {},
   "outputs": [
    {
     "data": {
      "text/html": [
       "<div>\n",
       "<style scoped>\n",
       "    .dataframe tbody tr th:only-of-type {\n",
       "        vertical-align: middle;\n",
       "    }\n",
       "\n",
       "    .dataframe tbody tr th {\n",
       "        vertical-align: top;\n",
       "    }\n",
       "\n",
       "    .dataframe thead th {\n",
       "        text-align: right;\n",
       "    }\n",
       "</style>\n",
       "<table border=\"1\" class=\"dataframe\">\n",
       "  <thead>\n",
       "    <tr style=\"text-align: right;\">\n",
       "      <th></th>\n",
       "      <th>Gov Id</th>\n",
       "      <th>Country</th>\n",
       "      <th>State</th>\n",
       "      <th>City</th>\n",
       "      <th>Station</th>\n",
       "      <th>Latitude</th>\n",
       "      <th>Longitude</th>\n",
       "      <th>Status</th>\n",
       "      <th>PM25</th>\n",
       "    </tr>\n",
       "  </thead>\n",
       "  <tbody>\n",
       "    <tr>\n",
       "      <td>190</td>\n",
       "      <td>site_5083</td>\n",
       "      <td>India</td>\n",
       "      <td>Uttar Pradesh</td>\n",
       "      <td>Loni_Dehat</td>\n",
       "      <td>Loni, Ghaziabad - UPPCB</td>\n",
       "      <td>77.278792</td>\n",
       "      <td>28.757294</td>\n",
       "      <td>Live</td>\n",
       "      <td>86</td>\n",
       "    </tr>\n",
       "    <tr>\n",
       "      <td>191</td>\n",
       "      <td>site_5258</td>\n",
       "      <td>India</td>\n",
       "      <td>Uttar Pradesh</td>\n",
       "      <td>Meerut</td>\n",
       "      <td>Ganga Nagar, Meerut - UPPCB</td>\n",
       "      <td>77.759035</td>\n",
       "      <td>28.999264</td>\n",
       "      <td>Live</td>\n",
       "      <td>80</td>\n",
       "    </tr>\n",
       "    <tr>\n",
       "      <td>192</td>\n",
       "      <td>site_5257</td>\n",
       "      <td>India</td>\n",
       "      <td>Uttar Pradesh</td>\n",
       "      <td>Meerut</td>\n",
       "      <td>Pallavpuram Phase 2, Meerut - UPPCB</td>\n",
       "      <td>77.709723</td>\n",
       "      <td>29.063510</td>\n",
       "      <td>Live</td>\n",
       "      <td>108</td>\n",
       "    </tr>\n",
       "    <tr>\n",
       "      <td>193</td>\n",
       "      <td>1078</td>\n",
       "      <td>India</td>\n",
       "      <td>Uttar Pradesh</td>\n",
       "      <td>Loni Ghaziabad</td>\n",
       "      <td>Loni, Ghaziabad - UPPCB</td>\n",
       "      <td>77.278792</td>\n",
       "      <td>28.757294</td>\n",
       "      <td>Inactive</td>\n",
       "      <td>108</td>\n",
       "    </tr>\n",
       "    <tr>\n",
       "      <td>194</td>\n",
       "      <td>1051</td>\n",
       "      <td>India</td>\n",
       "      <td>Uttar Pradesh</td>\n",
       "      <td>Ghaziabad</td>\n",
       "      <td>Loni, Ghaziabad - UPPCB</td>\n",
       "      <td>77.278792</td>\n",
       "      <td>28.757294</td>\n",
       "      <td>Inactive</td>\n",
       "      <td>108</td>\n",
       "    </tr>\n",
       "    <tr>\n",
       "      <td>195</td>\n",
       "      <td>site_116</td>\n",
       "      <td>India</td>\n",
       "      <td>Delhi</td>\n",
       "      <td>Delhi</td>\n",
       "      <td>East Arjun Nagar, Delhi - CPCB</td>\n",
       "      <td>77.285932</td>\n",
       "      <td>28.655602</td>\n",
       "      <td>Live</td>\n",
       "      <td>108</td>\n",
       "    </tr>\n",
       "    <tr>\n",
       "      <td>196</td>\n",
       "      <td>site_299</td>\n",
       "      <td>India</td>\n",
       "      <td>West Bengal</td>\n",
       "      <td>Durgapur</td>\n",
       "      <td>Sidhu Kanhu Indoor Stadium, Durgapur - WBPCB</td>\n",
       "      <td>87.289222</td>\n",
       "      <td>23.540435</td>\n",
       "      <td>Inactive</td>\n",
       "      <td>108</td>\n",
       "    </tr>\n",
       "    <tr>\n",
       "      <td>197</td>\n",
       "      <td>site_1392</td>\n",
       "      <td>India</td>\n",
       "      <td>Rajasthan</td>\n",
       "      <td>Ajmer</td>\n",
       "      <td>Civil Lines,  Ajmer - RSPCB</td>\n",
       "      <td>74.646594</td>\n",
       "      <td>26.470859</td>\n",
       "      <td>Live</td>\n",
       "      <td>37</td>\n",
       "    </tr>\n",
       "    <tr>\n",
       "      <td>198</td>\n",
       "      <td>site_5044</td>\n",
       "      <td>India</td>\n",
       "      <td>Haryana</td>\n",
       "      <td>Dharuhera</td>\n",
       "      <td>Municipal Corporation Office, Dharuhera -  HSPCB</td>\n",
       "      <td>76.799700</td>\n",
       "      <td>28.206800</td>\n",
       "      <td>Live</td>\n",
       "      <td>63</td>\n",
       "    </tr>\n",
       "    <tr>\n",
       "      <td>199</td>\n",
       "      <td>site_5124</td>\n",
       "      <td>India</td>\n",
       "      <td>Karnataka</td>\n",
       "      <td>Chamarajanagar</td>\n",
       "      <td>Urban, Chamarajanagar - KSPCB</td>\n",
       "      <td>76.931139</td>\n",
       "      <td>11.926611</td>\n",
       "      <td>Inactive</td>\n",
       "      <td>7</td>\n",
       "    </tr>\n",
       "  </tbody>\n",
       "</table>\n",
       "</div>"
      ],
      "text/plain": [
       "        Gov Id Country          State            City  \\\n",
       "190  site_5083   India  Uttar Pradesh      Loni_Dehat   \n",
       "191  site_5258   India  Uttar Pradesh          Meerut   \n",
       "192  site_5257   India  Uttar Pradesh          Meerut   \n",
       "193       1078   India  Uttar Pradesh  Loni Ghaziabad   \n",
       "194       1051   India  Uttar Pradesh       Ghaziabad   \n",
       "195   site_116   India          Delhi           Delhi   \n",
       "196   site_299   India    West Bengal        Durgapur   \n",
       "197  site_1392   India      Rajasthan           Ajmer   \n",
       "198  site_5044   India        Haryana       Dharuhera   \n",
       "199  site_5124   India      Karnataka  Chamarajanagar   \n",
       "\n",
       "                                              Station   Latitude  Longitude  \\\n",
       "190                           Loni, Ghaziabad - UPPCB  77.278792  28.757294   \n",
       "191                       Ganga Nagar, Meerut - UPPCB  77.759035  28.999264   \n",
       "192               Pallavpuram Phase 2, Meerut - UPPCB  77.709723  29.063510   \n",
       "193                           Loni, Ghaziabad - UPPCB  77.278792  28.757294   \n",
       "194                           Loni, Ghaziabad - UPPCB  77.278792  28.757294   \n",
       "195                    East Arjun Nagar, Delhi - CPCB  77.285932  28.655602   \n",
       "196      Sidhu Kanhu Indoor Stadium, Durgapur - WBPCB  87.289222  23.540435   \n",
       "197                       Civil Lines,  Ajmer - RSPCB  74.646594  26.470859   \n",
       "198  Municipal Corporation Office, Dharuhera -  HSPCB  76.799700  28.206800   \n",
       "199                     Urban, Chamarajanagar - KSPCB  76.931139  11.926611   \n",
       "\n",
       "       Status  PM25  \n",
       "190      Live    86  \n",
       "191      Live    80  \n",
       "192      Live   108  \n",
       "193  Inactive   108  \n",
       "194  Inactive   108  \n",
       "195      Live   108  \n",
       "196  Inactive   108  \n",
       "197      Live    37  \n",
       "198      Live    63  \n",
       "199  Inactive     7  "
      ]
     },
     "execution_count": 3,
     "metadata": {},
     "output_type": "execute_result"
    }
   ],
   "source": [
    "df.tail(10)"
   ]
  },
  {
   "cell_type": "code",
   "execution_count": 4,
   "metadata": {},
   "outputs": [
    {
     "data": {
      "text/plain": [
       "Gov Id        object\n",
       "Country       object\n",
       "State         object\n",
       "City          object\n",
       "Station       object\n",
       "Latitude     float64\n",
       "Longitude    float64\n",
       "Status        object\n",
       "PM25           int64\n",
       "dtype: object"
      ]
     },
     "execution_count": 4,
     "metadata": {},
     "output_type": "execute_result"
    }
   ],
   "source": [
    "df.dtypes"
   ]
  },
  {
   "cell_type": "code",
   "execution_count": 5,
   "metadata": {},
   "outputs": [],
   "source": [
    "df=df.dropna()"
   ]
  },
  {
   "cell_type": "code",
   "execution_count": 6,
   "metadata": {},
   "outputs": [],
   "source": [
    "df[\"PM25\"]=df[\"PM25\"]/500"
   ]
  },
  {
   "cell_type": "code",
   "execution_count": 7,
   "metadata": {},
   "outputs": [],
   "source": [
    "df.loc[df[\"City\"]==\"Kolkata\", \"value\"]=2"
   ]
  },
  {
   "cell_type": "code",
   "execution_count": 8,
   "metadata": {},
   "outputs": [],
   "source": [
    "#stationAir=df[[\"Longitude\", \"Latitude\", \"PM25\"]].as_matrix()\n",
    "\n",
    "stationAir=df[[\"Longitude\", \"Latitude\", \"PM25\"]].values.tolist()"
   ]
  },
  {
   "cell_type": "code",
   "execution_count": 12,
   "metadata": {},
   "outputs": [
    {
     "data": {
      "text/plain": [
       "[16.9872867, 81.73631759999999, 0.076]"
      ]
     },
     "execution_count": 12,
     "metadata": {},
     "output_type": "execute_result"
    }
   ],
   "source": [
    "stationAir[0]"
   ]
  },
  {
   "cell_type": "code",
   "execution_count": 13,
   "metadata": {},
   "outputs": [],
   "source": [
    "m=folium.Map([21.651478, 77.201067], zoom_start=5, legend_name=\"test\")"
   ]
  },
  {
   "cell_type": "code",
   "execution_count": 10,
   "metadata": {},
   "outputs": [
    {
     "data": {
      "text/html": [
       "<div style=\"width:100%;\"><div style=\"position:relative;width:100%;height:0;padding-bottom:60%;\"><iframe src=\"data:text/html;charset=utf-8;base64,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\" style=\"position:absolute;width:100%;height:100%;left:0;top:0;border:none !important;\" allowfullscreen webkitallowfullscreen mozallowfullscreen></iframe></div></div>"
      ],
      "text/plain": [
       "<folium.folium.Map at 0x113bba080>"
      ]
     },
     "execution_count": 10,
     "metadata": {},
     "output_type": "execute_result"
    }
   ],
   "source": [
    "m=folium.Map([21.651478, 77.201067], zoom_start=5, legend_name=\"test\")\n",
    "m.add_child(plugins.HeatMap(\n",
    "    stationAir, \n",
    "    radius=35, \n",
    "    name=df[\"City\"], \n",
    "    blur=50,\n",
    "    gradient={50/500: \"green\", 100/500: \"yellow\", 200/500: \"red\", 300/500:\"orange\", 400/500:\"blue\", 500/500:\"black\"}\n",
    "))\n",
    "#m.save('tmpl.html')"
   ]
  },
  {
   "cell_type": "code",
   "execution_count": null,
   "metadata": {},
   "outputs": [],
   "source": []
  }
 ],
 "metadata": {
  "kernelspec": {
   "display_name": "Python 3",
   "language": "python",
   "name": "python3"
  },
  "language_info": {
   "codemirror_mode": {
    "name": "ipython",
    "version": 3
   },
   "file_extension": ".py",
   "mimetype": "text/x-python",
   "name": "python",
   "nbconvert_exporter": "python",
   "pygments_lexer": "ipython3",
   "version": "3.7.3"
  }
 },
 "nbformat": 4,
 "nbformat_minor": 2
}

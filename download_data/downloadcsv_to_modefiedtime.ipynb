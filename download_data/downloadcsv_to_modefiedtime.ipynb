{
 "cells": [
  {
   "cell_type": "code",
   "execution_count": 1,
   "metadata": {},
   "outputs": [],
   "source": [
    "import os\n",
    "import glob\n",
    "import pandas as pd\n",
    "import matplotlib.pyplot as plt\n",
    "import numpy as np\n",
    "import datetime\n",
    "import statsmodels.api as sm\n",
    "from sklearn.preprocessing import MinMaxScaler\n",
    "from sklearn.metrics import accuracy_score\n",
    "\n",
    "#from fbprophet import Prophet\n",
    "#import prophet"
   ]
  },
  {
   "cell_type": "code",
   "execution_count": 2,
   "metadata": {},
   "outputs": [
    {
     "data": {
      "text/plain": [
       "'/Users/masanoritakahashi/Documents/aqi/code'"
      ]
     },
     "execution_count": 2,
     "metadata": {},
     "output_type": "execute_result"
    }
   ],
   "source": [
    "os.getcwd() "
   ]
  },
  {
   "cell_type": "code",
   "execution_count": 3,
   "metadata": {},
   "outputs": [],
   "source": [
    "df = pd.read_csv(\"/Users/masanoritakahashi/Documents/aqi/downloaddata/rohini_1113.csv\")"
   ]
  },
  {
   "cell_type": "code",
   "execution_count": 4,
   "metadata": {},
   "outputs": [
    {
     "data": {
      "text/html": [
       "<div>\n",
       "<style scoped>\n",
       "    .dataframe tbody tr th:only-of-type {\n",
       "        vertical-align: middle;\n",
       "    }\n",
       "\n",
       "    .dataframe tbody tr th {\n",
       "        vertical-align: top;\n",
       "    }\n",
       "\n",
       "    .dataframe thead th {\n",
       "        text-align: right;\n",
       "    }\n",
       "</style>\n",
       "<table border=\"1\" class=\"dataframe\">\n",
       "  <thead>\n",
       "    <tr style=\"text-align: right;\">\n",
       "      <th></th>\n",
       "      <th>location</th>\n",
       "      <th>city</th>\n",
       "      <th>country</th>\n",
       "      <th>utc</th>\n",
       "      <th>local</th>\n",
       "      <th>parameter</th>\n",
       "      <th>value</th>\n",
       "      <th>unit</th>\n",
       "      <th>latitude</th>\n",
       "      <th>longitude</th>\n",
       "      <th>attribution</th>\n",
       "    </tr>\n",
       "  </thead>\n",
       "  <tbody>\n",
       "    <tr>\n",
       "      <td>0</td>\n",
       "      <td>Rohini, Delhi - DPCC</td>\n",
       "      <td>Delhi</td>\n",
       "      <td>IN</td>\n",
       "      <td>2019-11-13T10:15:00.000Z</td>\n",
       "      <td>2019-11-13T15:45:00+05:30</td>\n",
       "      <td>pm25</td>\n",
       "      <td>410</td>\n",
       "      <td>µg/m³</td>\n",
       "      <td>28.732528</td>\n",
       "      <td>77.11992</td>\n",
       "      <td>[{\"name\":\"Central Pollution Control Board\",\"ur...</td>\n",
       "    </tr>\n",
       "    <tr>\n",
       "      <td>1</td>\n",
       "      <td>Rohini, Delhi - DPCC</td>\n",
       "      <td>Delhi</td>\n",
       "      <td>IN</td>\n",
       "      <td>2019-11-13T10:00:00.000Z</td>\n",
       "      <td>2019-11-13T15:30:00+05:30</td>\n",
       "      <td>pm25</td>\n",
       "      <td>410</td>\n",
       "      <td>µg/m³</td>\n",
       "      <td>28.732528</td>\n",
       "      <td>77.11992</td>\n",
       "      <td>[{\"name\":\"Central Pollution Control Board\",\"ur...</td>\n",
       "    </tr>\n",
       "    <tr>\n",
       "      <td>2</td>\n",
       "      <td>Rohini, Delhi - DPCC</td>\n",
       "      <td>Delhi</td>\n",
       "      <td>IN</td>\n",
       "      <td>2019-11-13T09:45:00.000Z</td>\n",
       "      <td>2019-11-13T15:15:00+05:30</td>\n",
       "      <td>pm25</td>\n",
       "      <td>410</td>\n",
       "      <td>µg/m³</td>\n",
       "      <td>28.732528</td>\n",
       "      <td>77.11992</td>\n",
       "      <td>[{\"name\":\"Central Pollution Control Board\",\"ur...</td>\n",
       "    </tr>\n",
       "    <tr>\n",
       "      <td>3</td>\n",
       "      <td>Rohini, Delhi - DPCC</td>\n",
       "      <td>Delhi</td>\n",
       "      <td>IN</td>\n",
       "      <td>2019-11-13T09:30:00.000Z</td>\n",
       "      <td>2019-11-13T15:00:00+05:30</td>\n",
       "      <td>pm25</td>\n",
       "      <td>410</td>\n",
       "      <td>µg/m³</td>\n",
       "      <td>28.732528</td>\n",
       "      <td>77.11992</td>\n",
       "      <td>[{\"name\":\"Central Pollution Control Board\",\"ur...</td>\n",
       "    </tr>\n",
       "    <tr>\n",
       "      <td>4</td>\n",
       "      <td>Rohini, Delhi - DPCC</td>\n",
       "      <td>Delhi</td>\n",
       "      <td>IN</td>\n",
       "      <td>2019-11-13T09:15:00.000Z</td>\n",
       "      <td>2019-11-13T14:45:00+05:30</td>\n",
       "      <td>pm25</td>\n",
       "      <td>415</td>\n",
       "      <td>µg/m³</td>\n",
       "      <td>28.732528</td>\n",
       "      <td>77.11992</td>\n",
       "      <td>[{\"name\":\"Central Pollution Control Board\",\"ur...</td>\n",
       "    </tr>\n",
       "  </tbody>\n",
       "</table>\n",
       "</div>"
      ],
      "text/plain": [
       "               location   city country                       utc  \\\n",
       "0  Rohini, Delhi - DPCC  Delhi      IN  2019-11-13T10:15:00.000Z   \n",
       "1  Rohini, Delhi - DPCC  Delhi      IN  2019-11-13T10:00:00.000Z   \n",
       "2  Rohini, Delhi - DPCC  Delhi      IN  2019-11-13T09:45:00.000Z   \n",
       "3  Rohini, Delhi - DPCC  Delhi      IN  2019-11-13T09:30:00.000Z   \n",
       "4  Rohini, Delhi - DPCC  Delhi      IN  2019-11-13T09:15:00.000Z   \n",
       "\n",
       "                       local parameter  value   unit   latitude  longitude  \\\n",
       "0  2019-11-13T15:45:00+05:30      pm25    410  µg/m³  28.732528   77.11992   \n",
       "1  2019-11-13T15:30:00+05:30      pm25    410  µg/m³  28.732528   77.11992   \n",
       "2  2019-11-13T15:15:00+05:30      pm25    410  µg/m³  28.732528   77.11992   \n",
       "3  2019-11-13T15:00:00+05:30      pm25    410  µg/m³  28.732528   77.11992   \n",
       "4  2019-11-13T14:45:00+05:30      pm25    415  µg/m³  28.732528   77.11992   \n",
       "\n",
       "                                         attribution  \n",
       "0  [{\"name\":\"Central Pollution Control Board\",\"ur...  \n",
       "1  [{\"name\":\"Central Pollution Control Board\",\"ur...  \n",
       "2  [{\"name\":\"Central Pollution Control Board\",\"ur...  \n",
       "3  [{\"name\":\"Central Pollution Control Board\",\"ur...  \n",
       "4  [{\"name\":\"Central Pollution Control Board\",\"ur...  "
      ]
     },
     "execution_count": 4,
     "metadata": {},
     "output_type": "execute_result"
    }
   ],
   "source": [
    "df.head()"
   ]
  },
  {
   "cell_type": "code",
   "execution_count": 5,
   "metadata": {},
   "outputs": [
    {
     "data": {
      "text/html": [
       "<div>\n",
       "<style scoped>\n",
       "    .dataframe tbody tr th:only-of-type {\n",
       "        vertical-align: middle;\n",
       "    }\n",
       "\n",
       "    .dataframe tbody tr th {\n",
       "        vertical-align: top;\n",
       "    }\n",
       "\n",
       "    .dataframe thead th {\n",
       "        text-align: right;\n",
       "    }\n",
       "</style>\n",
       "<table border=\"1\" class=\"dataframe\">\n",
       "  <thead>\n",
       "    <tr style=\"text-align: right;\">\n",
       "      <th></th>\n",
       "      <th>location</th>\n",
       "      <th>city</th>\n",
       "      <th>country</th>\n",
       "      <th>utc</th>\n",
       "      <th>local</th>\n",
       "      <th>parameter</th>\n",
       "      <th>value</th>\n",
       "      <th>unit</th>\n",
       "      <th>latitude</th>\n",
       "      <th>longitude</th>\n",
       "      <th>attribution</th>\n",
       "    </tr>\n",
       "  </thead>\n",
       "  <tbody>\n",
       "    <tr>\n",
       "      <td>2484</td>\n",
       "      <td>Rohini, Delhi - DPCC</td>\n",
       "      <td>Delhi</td>\n",
       "      <td>IN</td>\n",
       "      <td>2019-09-30T19:30:00.000Z</td>\n",
       "      <td>2019-10-01T01:00:00+05:30</td>\n",
       "      <td>pm25</td>\n",
       "      <td>35</td>\n",
       "      <td>µg/m³</td>\n",
       "      <td>28.732528</td>\n",
       "      <td>77.11992</td>\n",
       "      <td>[{\"name\":\"Central Pollution Control Board\",\"ur...</td>\n",
       "    </tr>\n",
       "    <tr>\n",
       "      <td>2485</td>\n",
       "      <td>Rohini, Delhi - DPCC</td>\n",
       "      <td>Delhi</td>\n",
       "      <td>IN</td>\n",
       "      <td>2019-09-30T19:15:00.000Z</td>\n",
       "      <td>2019-10-01T00:45:00+05:30</td>\n",
       "      <td>pm25</td>\n",
       "      <td>35</td>\n",
       "      <td>µg/m³</td>\n",
       "      <td>28.732528</td>\n",
       "      <td>77.11992</td>\n",
       "      <td>[{\"name\":\"Central Pollution Control Board\",\"ur...</td>\n",
       "    </tr>\n",
       "    <tr>\n",
       "      <td>2486</td>\n",
       "      <td>Rohini, Delhi - DPCC</td>\n",
       "      <td>Delhi</td>\n",
       "      <td>IN</td>\n",
       "      <td>2019-09-30T19:00:00.000Z</td>\n",
       "      <td>2019-10-01T00:30:00+05:30</td>\n",
       "      <td>pm25</td>\n",
       "      <td>38</td>\n",
       "      <td>µg/m³</td>\n",
       "      <td>28.732528</td>\n",
       "      <td>77.11992</td>\n",
       "      <td>[{\"name\":\"Central Pollution Control Board\",\"ur...</td>\n",
       "    </tr>\n",
       "    <tr>\n",
       "      <td>2487</td>\n",
       "      <td>Rohini, Delhi - DPCC</td>\n",
       "      <td>Delhi</td>\n",
       "      <td>IN</td>\n",
       "      <td>2019-09-30T18:45:00.000Z</td>\n",
       "      <td>2019-10-01T00:15:00+05:30</td>\n",
       "      <td>pm25</td>\n",
       "      <td>38</td>\n",
       "      <td>µg/m³</td>\n",
       "      <td>28.732528</td>\n",
       "      <td>77.11992</td>\n",
       "      <td>[{\"name\":\"Central Pollution Control Board\",\"ur...</td>\n",
       "    </tr>\n",
       "    <tr>\n",
       "      <td>2488</td>\n",
       "      <td>Rohini, Delhi - DPCC</td>\n",
       "      <td>Delhi</td>\n",
       "      <td>IN</td>\n",
       "      <td>2019-09-30T18:30:00.000Z</td>\n",
       "      <td>2019-10-01T00:00:00+05:30</td>\n",
       "      <td>pm25</td>\n",
       "      <td>38</td>\n",
       "      <td>µg/m³</td>\n",
       "      <td>28.732528</td>\n",
       "      <td>77.11992</td>\n",
       "      <td>[{\"name\":\"Central Pollution Control Board\",\"ur...</td>\n",
       "    </tr>\n",
       "  </tbody>\n",
       "</table>\n",
       "</div>"
      ],
      "text/plain": [
       "                  location   city country                       utc  \\\n",
       "2484  Rohini, Delhi - DPCC  Delhi      IN  2019-09-30T19:30:00.000Z   \n",
       "2485  Rohini, Delhi - DPCC  Delhi      IN  2019-09-30T19:15:00.000Z   \n",
       "2486  Rohini, Delhi - DPCC  Delhi      IN  2019-09-30T19:00:00.000Z   \n",
       "2487  Rohini, Delhi - DPCC  Delhi      IN  2019-09-30T18:45:00.000Z   \n",
       "2488  Rohini, Delhi - DPCC  Delhi      IN  2019-09-30T18:30:00.000Z   \n",
       "\n",
       "                          local parameter  value   unit   latitude  longitude  \\\n",
       "2484  2019-10-01T01:00:00+05:30      pm25     35  µg/m³  28.732528   77.11992   \n",
       "2485  2019-10-01T00:45:00+05:30      pm25     35  µg/m³  28.732528   77.11992   \n",
       "2486  2019-10-01T00:30:00+05:30      pm25     38  µg/m³  28.732528   77.11992   \n",
       "2487  2019-10-01T00:15:00+05:30      pm25     38  µg/m³  28.732528   77.11992   \n",
       "2488  2019-10-01T00:00:00+05:30      pm25     38  µg/m³  28.732528   77.11992   \n",
       "\n",
       "                                            attribution  \n",
       "2484  [{\"name\":\"Central Pollution Control Board\",\"ur...  \n",
       "2485  [{\"name\":\"Central Pollution Control Board\",\"ur...  \n",
       "2486  [{\"name\":\"Central Pollution Control Board\",\"ur...  \n",
       "2487  [{\"name\":\"Central Pollution Control Board\",\"ur...  \n",
       "2488  [{\"name\":\"Central Pollution Control Board\",\"ur...  "
      ]
     },
     "execution_count": 5,
     "metadata": {},
     "output_type": "execute_result"
    }
   ],
   "source": [
    "df.tail()"
   ]
  },
  {
   "cell_type": "code",
   "execution_count": 6,
   "metadata": {},
   "outputs": [
    {
     "data": {
      "text/plain": [
       "(2489, 11)"
      ]
     },
     "execution_count": 6,
     "metadata": {},
     "output_type": "execute_result"
    }
   ],
   "source": [
    "df.shape"
   ]
  },
  {
   "cell_type": "code",
   "execution_count": 7,
   "metadata": {},
   "outputs": [
    {
     "name": "stdout",
     "output_type": "stream",
     "text": [
      "<class 'pandas.core.frame.DataFrame'>\n",
      "RangeIndex: 2489 entries, 0 to 2488\n",
      "Data columns (total 11 columns):\n",
      "location       2489 non-null object\n",
      "city           2489 non-null object\n",
      "country        2489 non-null object\n",
      "utc            2489 non-null object\n",
      "local          2489 non-null object\n",
      "parameter      2489 non-null object\n",
      "value          2489 non-null int64\n",
      "unit           2489 non-null object\n",
      "latitude       2489 non-null float64\n",
      "longitude      2489 non-null float64\n",
      "attribution    2489 non-null object\n",
      "dtypes: float64(2), int64(1), object(8)\n",
      "memory usage: 214.0+ KB\n"
     ]
    }
   ],
   "source": [
    "df.info()"
   ]
  },
  {
   "cell_type": "code",
   "execution_count": 8,
   "metadata": {},
   "outputs": [
    {
     "data": {
      "text/plain": [
       "Index(['location', 'city', 'country', 'utc', 'local', 'parameter', 'value',\n",
       "       'unit', 'latitude', 'longitude', 'attribution'],\n",
       "      dtype='object')"
      ]
     },
     "execution_count": 8,
     "metadata": {},
     "output_type": "execute_result"
    }
   ],
   "source": [
    "df.columns"
   ]
  },
  {
   "cell_type": "code",
   "execution_count": 9,
   "metadata": {},
   "outputs": [
    {
     "data": {
      "text/plain": [
       "location       0\n",
       "city           0\n",
       "country        0\n",
       "utc            0\n",
       "local          0\n",
       "parameter      0\n",
       "value          0\n",
       "unit           0\n",
       "latitude       0\n",
       "longitude      0\n",
       "attribution    0\n",
       "dtype: int64"
      ]
     },
     "execution_count": 9,
     "metadata": {},
     "output_type": "execute_result"
    }
   ],
   "source": [
    "df.isnull().sum()"
   ]
  },
  {
   "cell_type": "code",
   "execution_count": 10,
   "metadata": {},
   "outputs": [
    {
     "data": {
      "text/html": [
       "<div>\n",
       "<style scoped>\n",
       "    .dataframe tbody tr th:only-of-type {\n",
       "        vertical-align: middle;\n",
       "    }\n",
       "\n",
       "    .dataframe tbody tr th {\n",
       "        vertical-align: top;\n",
       "    }\n",
       "\n",
       "    .dataframe thead th {\n",
       "        text-align: right;\n",
       "    }\n",
       "</style>\n",
       "<table border=\"1\" class=\"dataframe\">\n",
       "  <thead>\n",
       "    <tr style=\"text-align: right;\">\n",
       "      <th></th>\n",
       "      <th>location</th>\n",
       "      <th>local</th>\n",
       "      <th>value</th>\n",
       "    </tr>\n",
       "  </thead>\n",
       "  <tbody>\n",
       "    <tr>\n",
       "      <td>0</td>\n",
       "      <td>Rohini, Delhi - DPCC</td>\n",
       "      <td>2019-11-13T15:45:00+05:30</td>\n",
       "      <td>410</td>\n",
       "    </tr>\n",
       "    <tr>\n",
       "      <td>1</td>\n",
       "      <td>Rohini, Delhi - DPCC</td>\n",
       "      <td>2019-11-13T15:30:00+05:30</td>\n",
       "      <td>410</td>\n",
       "    </tr>\n",
       "    <tr>\n",
       "      <td>2</td>\n",
       "      <td>Rohini, Delhi - DPCC</td>\n",
       "      <td>2019-11-13T15:15:00+05:30</td>\n",
       "      <td>410</td>\n",
       "    </tr>\n",
       "    <tr>\n",
       "      <td>3</td>\n",
       "      <td>Rohini, Delhi - DPCC</td>\n",
       "      <td>2019-11-13T15:00:00+05:30</td>\n",
       "      <td>410</td>\n",
       "    </tr>\n",
       "    <tr>\n",
       "      <td>4</td>\n",
       "      <td>Rohini, Delhi - DPCC</td>\n",
       "      <td>2019-11-13T14:45:00+05:30</td>\n",
       "      <td>415</td>\n",
       "    </tr>\n",
       "  </tbody>\n",
       "</table>\n",
       "</div>"
      ],
      "text/plain": [
       "               location                      local  value\n",
       "0  Rohini, Delhi - DPCC  2019-11-13T15:45:00+05:30    410\n",
       "1  Rohini, Delhi - DPCC  2019-11-13T15:30:00+05:30    410\n",
       "2  Rohini, Delhi - DPCC  2019-11-13T15:15:00+05:30    410\n",
       "3  Rohini, Delhi - DPCC  2019-11-13T15:00:00+05:30    410\n",
       "4  Rohini, Delhi - DPCC  2019-11-13T14:45:00+05:30    415"
      ]
     },
     "execution_count": 10,
     "metadata": {},
     "output_type": "execute_result"
    }
   ],
   "source": [
    "df[[\"location\", \"local\", \"value\"]].head()"
   ]
  },
  {
   "cell_type": "code",
   "execution_count": 11,
   "metadata": {},
   "outputs": [
    {
     "data": {
      "text/html": [
       "<div>\n",
       "<style scoped>\n",
       "    .dataframe tbody tr th:only-of-type {\n",
       "        vertical-align: middle;\n",
       "    }\n",
       "\n",
       "    .dataframe tbody tr th {\n",
       "        vertical-align: top;\n",
       "    }\n",
       "\n",
       "    .dataframe thead th {\n",
       "        text-align: right;\n",
       "    }\n",
       "</style>\n",
       "<table border=\"1\" class=\"dataframe\">\n",
       "  <thead>\n",
       "    <tr style=\"text-align: right;\">\n",
       "      <th></th>\n",
       "      <th>location</th>\n",
       "      <th>local</th>\n",
       "      <th>value</th>\n",
       "    </tr>\n",
       "  </thead>\n",
       "  <tbody>\n",
       "    <tr>\n",
       "      <td>2484</td>\n",
       "      <td>Rohini, Delhi - DPCC</td>\n",
       "      <td>2019-10-01T01:00:00+05:30</td>\n",
       "      <td>35</td>\n",
       "    </tr>\n",
       "    <tr>\n",
       "      <td>2485</td>\n",
       "      <td>Rohini, Delhi - DPCC</td>\n",
       "      <td>2019-10-01T00:45:00+05:30</td>\n",
       "      <td>35</td>\n",
       "    </tr>\n",
       "    <tr>\n",
       "      <td>2486</td>\n",
       "      <td>Rohini, Delhi - DPCC</td>\n",
       "      <td>2019-10-01T00:30:00+05:30</td>\n",
       "      <td>38</td>\n",
       "    </tr>\n",
       "    <tr>\n",
       "      <td>2487</td>\n",
       "      <td>Rohini, Delhi - DPCC</td>\n",
       "      <td>2019-10-01T00:15:00+05:30</td>\n",
       "      <td>38</td>\n",
       "    </tr>\n",
       "    <tr>\n",
       "      <td>2488</td>\n",
       "      <td>Rohini, Delhi - DPCC</td>\n",
       "      <td>2019-10-01T00:00:00+05:30</td>\n",
       "      <td>38</td>\n",
       "    </tr>\n",
       "  </tbody>\n",
       "</table>\n",
       "</div>"
      ],
      "text/plain": [
       "                  location                      local  value\n",
       "2484  Rohini, Delhi - DPCC  2019-10-01T01:00:00+05:30     35\n",
       "2485  Rohini, Delhi - DPCC  2019-10-01T00:45:00+05:30     35\n",
       "2486  Rohini, Delhi - DPCC  2019-10-01T00:30:00+05:30     38\n",
       "2487  Rohini, Delhi - DPCC  2019-10-01T00:15:00+05:30     38\n",
       "2488  Rohini, Delhi - DPCC  2019-10-01T00:00:00+05:30     38"
      ]
     },
     "execution_count": 11,
     "metadata": {},
     "output_type": "execute_result"
    }
   ],
   "source": [
    "df[[\"location\", \"local\", \"value\"]].tail()"
   ]
  },
  {
   "cell_type": "code",
   "execution_count": 12,
   "metadata": {},
   "outputs": [],
   "source": [
    "city_name=\"pm25\"\n",
    "df_location=df[[\"location\", \"local\", \"value\"]].sort_values(by='local') \n",
    "df_location[\"local\"]=pd.to_datetime(df_location['local'].str[:-len(\"30:00+05:30\")].str.replace(\"T\",\" \"), format='%Y-%m-%d  %H:')\n",
    "\n",
    "tmp_time=pd.date_range(start='2019-10-01 00:00', end='2019-11-13 00:00', freq='H').strftime('%Y-%m-%d %H:%M:%S')\n",
    "df_tmp_time=pd.DataFrame(tmp_time, columns=[\"local\"])\n",
    "df_tmp_time[\"local\"]=pd.to_datetime(df_tmp_time[\"local\"])\n",
    "\n",
    "\n",
    "df_location=pd.merge(df_location, df_tmp_time, on='local').drop_duplicates(\"local\").reset_index(drop=True)\n",
    "\n",
    "df_tmp_time[\"local_time\"]=pd.to_datetime(df_tmp_time[\"local\"])\n",
    "df_location=pd.merge(df_location, df_tmp_time, how='right').sort_values(by='local_time') \n",
    "df_location=df_location[[\"value\", \"local_time\"]]\n",
    "df_location.columns=[\"{}\".format(city_name), \"local_time\"]"
   ]
  },
  {
   "cell_type": "code",
   "execution_count": 13,
   "metadata": {},
   "outputs": [
    {
     "data": {
      "text/html": [
       "<div>\n",
       "<style scoped>\n",
       "    .dataframe tbody tr th:only-of-type {\n",
       "        vertical-align: middle;\n",
       "    }\n",
       "\n",
       "    .dataframe tbody tr th {\n",
       "        vertical-align: top;\n",
       "    }\n",
       "\n",
       "    .dataframe thead th {\n",
       "        text-align: right;\n",
       "    }\n",
       "</style>\n",
       "<table border=\"1\" class=\"dataframe\">\n",
       "  <thead>\n",
       "    <tr style=\"text-align: right;\">\n",
       "      <th></th>\n",
       "      <th>pm25</th>\n",
       "      <th>local_time</th>\n",
       "    </tr>\n",
       "  </thead>\n",
       "  <tbody>\n",
       "    <tr>\n",
       "      <td>0</td>\n",
       "      <td>38.0</td>\n",
       "      <td>2019-10-01 00:00:00</td>\n",
       "    </tr>\n",
       "    <tr>\n",
       "      <td>1</td>\n",
       "      <td>35.0</td>\n",
       "      <td>2019-10-01 01:00:00</td>\n",
       "    </tr>\n",
       "    <tr>\n",
       "      <td>2</td>\n",
       "      <td>31.0</td>\n",
       "      <td>2019-10-01 02:00:00</td>\n",
       "    </tr>\n",
       "    <tr>\n",
       "      <td>3</td>\n",
       "      <td>24.0</td>\n",
       "      <td>2019-10-01 03:00:00</td>\n",
       "    </tr>\n",
       "    <tr>\n",
       "      <td>4</td>\n",
       "      <td>30.0</td>\n",
       "      <td>2019-10-01 04:00:00</td>\n",
       "    </tr>\n",
       "  </tbody>\n",
       "</table>\n",
       "</div>"
      ],
      "text/plain": [
       "   pm25          local_time\n",
       "0  38.0 2019-10-01 00:00:00\n",
       "1  35.0 2019-10-01 01:00:00\n",
       "2  31.0 2019-10-01 02:00:00\n",
       "3  24.0 2019-10-01 03:00:00\n",
       "4  30.0 2019-10-01 04:00:00"
      ]
     },
     "execution_count": 13,
     "metadata": {},
     "output_type": "execute_result"
    }
   ],
   "source": [
    "df_location.head()"
   ]
  },
  {
   "cell_type": "code",
   "execution_count": 14,
   "metadata": {},
   "outputs": [
    {
     "data": {
      "text/html": [
       "<div>\n",
       "<style scoped>\n",
       "    .dataframe tbody tr th:only-of-type {\n",
       "        vertical-align: middle;\n",
       "    }\n",
       "\n",
       "    .dataframe tbody tr th {\n",
       "        vertical-align: top;\n",
       "    }\n",
       "\n",
       "    .dataframe thead th {\n",
       "        text-align: right;\n",
       "    }\n",
       "</style>\n",
       "<table border=\"1\" class=\"dataframe\">\n",
       "  <thead>\n",
       "    <tr style=\"text-align: right;\">\n",
       "      <th></th>\n",
       "      <th>pm25</th>\n",
       "      <th>local_time</th>\n",
       "    </tr>\n",
       "  </thead>\n",
       "  <tbody>\n",
       "    <tr>\n",
       "      <td>704</td>\n",
       "      <td>448.0</td>\n",
       "      <td>2019-11-12 20:00:00</td>\n",
       "    </tr>\n",
       "    <tr>\n",
       "      <td>705</td>\n",
       "      <td>483.0</td>\n",
       "      <td>2019-11-12 21:00:00</td>\n",
       "    </tr>\n",
       "    <tr>\n",
       "      <td>706</td>\n",
       "      <td>510.0</td>\n",
       "      <td>2019-11-12 22:00:00</td>\n",
       "    </tr>\n",
       "    <tr>\n",
       "      <td>707</td>\n",
       "      <td>514.0</td>\n",
       "      <td>2019-11-12 23:00:00</td>\n",
       "    </tr>\n",
       "    <tr>\n",
       "      <td>708</td>\n",
       "      <td>544.0</td>\n",
       "      <td>2019-11-13 00:00:00</td>\n",
       "    </tr>\n",
       "  </tbody>\n",
       "</table>\n",
       "</div>"
      ],
      "text/plain": [
       "      pm25          local_time\n",
       "704  448.0 2019-11-12 20:00:00\n",
       "705  483.0 2019-11-12 21:00:00\n",
       "706  510.0 2019-11-12 22:00:00\n",
       "707  514.0 2019-11-12 23:00:00\n",
       "708  544.0 2019-11-13 00:00:00"
      ]
     },
     "execution_count": 14,
     "metadata": {},
     "output_type": "execute_result"
    }
   ],
   "source": [
    "df_location.tail()"
   ]
  },
  {
   "cell_type": "code",
   "execution_count": 15,
   "metadata": {},
   "outputs": [
    {
     "data": {
      "text/plain": [
       "1033"
      ]
     },
     "execution_count": 15,
     "metadata": {},
     "output_type": "execute_result"
    }
   ],
   "source": [
    "len(df_location)"
   ]
  },
  {
   "cell_type": "code",
   "execution_count": 16,
   "metadata": {},
   "outputs": [
    {
     "data": {
      "text/plain": [
       "1033"
      ]
     },
     "execution_count": 16,
     "metadata": {},
     "output_type": "execute_result"
    }
   ],
   "source": [
    "len(df_tmp_time)"
   ]
  },
  {
   "cell_type": "code",
   "execution_count": 17,
   "metadata": {},
   "outputs": [
    {
     "data": {
      "text/plain": [
       "pandas.core.series.Series"
      ]
     },
     "execution_count": 17,
     "metadata": {},
     "output_type": "execute_result"
    }
   ],
   "source": [
    "type(df_location[\"{}\".format(city_name)])"
   ]
  },
  {
   "cell_type": "code",
   "execution_count": 18,
   "metadata": {},
   "outputs": [
    {
     "data": {
      "text/plain": [
       "pandas.core.series.Series"
      ]
     },
     "execution_count": 18,
     "metadata": {},
     "output_type": "execute_result"
    }
   ],
   "source": [
    "type(df_location[\"local_time\"])"
   ]
  },
  {
   "cell_type": "code",
   "execution_count": 19,
   "metadata": {},
   "outputs": [
    {
     "name": "stderr",
     "output_type": "stream",
     "text": [
      "//anaconda3/lib/python3.7/site-packages/pandas/plotting/_matplotlib/converter.py:103: FutureWarning: Using an implicitly registered datetime converter for a matplotlib plotting method. The converter was registered by pandas on import. Future versions of pandas will require you to explicitly register matplotlib converters.\n",
      "\n",
      "To register the converters:\n",
      "\t>>> from pandas.plotting import register_matplotlib_converters\n",
      "\t>>> register_matplotlib_converters()\n",
      "  warnings.warn(msg, FutureWarning)\n"
     ]
    },
    {
     "data": {
      "text/plain": [
       "[<matplotlib.lines.Line2D at 0x11c9869e8>]"
      ]
     },
     "execution_count": 19,
     "metadata": {},
     "output_type": "execute_result"
    },
    {
     "data": {
      "image/png": "[encoded data removed]",
      "text/plain": [
       "<Figure size 1152x360 with 1 Axes>"
      ]
     },
     "metadata": {
      "needs_background": "light"
     },
     "output_type": "display_data"
    }
   ],
   "source": [
    "dataset = df_location[\"{}\".format(city_name)].values\n",
    "dataset = df_location[\"{}\".format(city_name)].astype('float32')\n",
    "dataset.index= pd.to_datetime(df_location[\"local_time\"])\n",
    "plt.figure(figsize=(16, 5))\n",
    "plt.plot(dataset)"
   ]
  },
  {
   "cell_type": "code",
   "execution_count": 20,
   "metadata": {},
   "outputs": [],
   "source": [
    "df_location.loc[df_location[\"{}\".format(city_name)]>=1000, \"{}\".format(city_name)]=np.nan"
   ]
  },
  {
   "cell_type": "code",
   "execution_count": 21,
   "metadata": {},
   "outputs": [
    {
     "data": {
      "text/plain": [
       "'\\ncol=df_location[\"{}\".format(city_name)]\\n# 四分位数\\nq1 = col.describe()[\\'25%\\']\\nq3 = col.describe()[\\'75%\\']\\niqr = q3 - q1 #四分位範囲\\n\\n# 外れ値の基準点\\noutlier_min = q1 - (iqr) * 1.5\\noutlier_max = q3 + (iqr) * 1.5\\n\\nprint(outlier_max)\\n\\n# 範囲から外れている値を除く\\ndf_location[col < outlier_min] = np.nan\\ndf_location[col > outlier_max] = np.nan\\n\\ndf_location[\"{}\".format(city_name)]=col\\n'"
      ]
     },
     "execution_count": 21,
     "metadata": {},
     "output_type": "execute_result"
    }
   ],
   "source": [
    "'''\n",
    "col=df_location[\"{}\".format(city_name)]\n",
    "# 四分位数\n",
    "q1 = col.describe()['25%']\n",
    "q3 = col.describe()['75%']\n",
    "iqr = q3 - q1 #四分位範囲\n",
    "\n",
    "# 外れ値の基準点\n",
    "outlier_min = q1 - (iqr) * 1.5\n",
    "outlier_max = q3 + (iqr) * 1.5\n",
    "\n",
    "print(outlier_max)\n",
    "\n",
    "# 範囲から外れている値を除く\n",
    "df_location[col < outlier_min] = np.nan\n",
    "df_location[col > outlier_max] = np.nan\n",
    "\n",
    "df_location[\"{}\".format(city_name)]=col\n",
    "'''"
   ]
  },
  {
   "cell_type": "code",
   "execution_count": 22,
   "metadata": {},
   "outputs": [
    {
     "data": {
      "text/plain": [
       "pm25          326\n",
       "local_time      0\n",
       "dtype: int64"
      ]
     },
     "execution_count": 22,
     "metadata": {},
     "output_type": "execute_result"
    }
   ],
   "source": [
    "df_location.isnull().sum()"
   ]
  },
  {
   "cell_type": "code",
   "execution_count": 36,
   "metadata": {},
   "outputs": [
    {
     "data": {
      "text/html": [
       "<div>\n",
       "<style scoped>\n",
       "    .dataframe tbody tr th:only-of-type {\n",
       "        vertical-align: middle;\n",
       "    }\n",
       "\n",
       "    .dataframe tbody tr th {\n",
       "        vertical-align: top;\n",
       "    }\n",
       "\n",
       "    .dataframe thead th {\n",
       "        text-align: right;\n",
       "    }\n",
       "</style>\n",
       "<table border=\"1\" class=\"dataframe\">\n",
       "  <thead>\n",
       "    <tr style=\"text-align: right;\">\n",
       "      <th></th>\n",
       "      <th>pm25</th>\n",
       "      <th>local_time</th>\n",
       "    </tr>\n",
       "  </thead>\n",
       "  <tbody>\n",
       "    <tr>\n",
       "      <td>642</td>\n",
       "      <td>415.0</td>\n",
       "      <td>2019-10-29 01:00:00</td>\n",
       "    </tr>\n",
       "    <tr>\n",
       "      <td>643</td>\n",
       "      <td>383.0</td>\n",
       "      <td>2019-10-29 02:00:00</td>\n",
       "    </tr>\n",
       "    <tr>\n",
       "      <td>644</td>\n",
       "      <td>331.0</td>\n",
       "      <td>2019-10-29 03:00:00</td>\n",
       "    </tr>\n",
       "    <tr>\n",
       "      <td>645</td>\n",
       "      <td>300.0</td>\n",
       "      <td>2019-10-29 04:00:00</td>\n",
       "    </tr>\n",
       "    <tr>\n",
       "      <td>646</td>\n",
       "      <td>282.0</td>\n",
       "      <td>2019-10-29 05:00:00</td>\n",
       "    </tr>\n",
       "    <tr>\n",
       "      <td>647</td>\n",
       "      <td>254.0</td>\n",
       "      <td>2019-10-29 06:00:00</td>\n",
       "    </tr>\n",
       "    <tr>\n",
       "      <td>648</td>\n",
       "      <td>291.0</td>\n",
       "      <td>2019-10-29 07:00:00</td>\n",
       "    </tr>\n",
       "    <tr>\n",
       "      <td>740</td>\n",
       "      <td>NaN</td>\n",
       "      <td>2019-10-29 08:00:00</td>\n",
       "    </tr>\n",
       "    <tr>\n",
       "      <td>649</td>\n",
       "      <td>250.0</td>\n",
       "      <td>2019-10-29 09:00:00</td>\n",
       "    </tr>\n",
       "    <tr>\n",
       "      <td>650</td>\n",
       "      <td>265.0</td>\n",
       "      <td>2019-10-29 10:00:00</td>\n",
       "    </tr>\n",
       "    <tr>\n",
       "      <td>651</td>\n",
       "      <td>283.0</td>\n",
       "      <td>2019-10-29 11:00:00</td>\n",
       "    </tr>\n",
       "    <tr>\n",
       "      <td>652</td>\n",
       "      <td>280.0</td>\n",
       "      <td>2019-10-29 12:00:00</td>\n",
       "    </tr>\n",
       "    <tr>\n",
       "      <td>653</td>\n",
       "      <td>287.0</td>\n",
       "      <td>2019-10-29 13:00:00</td>\n",
       "    </tr>\n",
       "    <tr>\n",
       "      <td>654</td>\n",
       "      <td>298.0</td>\n",
       "      <td>2019-10-29 14:00:00</td>\n",
       "    </tr>\n",
       "    <tr>\n",
       "      <td>655</td>\n",
       "      <td>318.0</td>\n",
       "      <td>2019-10-29 15:00:00</td>\n",
       "    </tr>\n",
       "    <tr>\n",
       "      <td>656</td>\n",
       "      <td>NaN</td>\n",
       "      <td>2019-10-29 16:00:00</td>\n",
       "    </tr>\n",
       "    <tr>\n",
       "      <td>657</td>\n",
       "      <td>326.0</td>\n",
       "      <td>2019-10-29 17:00:00</td>\n",
       "    </tr>\n",
       "    <tr>\n",
       "      <td>658</td>\n",
       "      <td>326.0</td>\n",
       "      <td>2019-10-29 18:00:00</td>\n",
       "    </tr>\n",
       "    <tr>\n",
       "      <td>659</td>\n",
       "      <td>392.0</td>\n",
       "      <td>2019-10-29 19:00:00</td>\n",
       "    </tr>\n",
       "    <tr>\n",
       "      <td>660</td>\n",
       "      <td>374.0</td>\n",
       "      <td>2019-10-29 20:00:00</td>\n",
       "    </tr>\n",
       "    <tr>\n",
       "      <td>661</td>\n",
       "      <td>393.0</td>\n",
       "      <td>2019-10-29 21:00:00</td>\n",
       "    </tr>\n",
       "    <tr>\n",
       "      <td>662</td>\n",
       "      <td>398.0</td>\n",
       "      <td>2019-10-29 22:00:00</td>\n",
       "    </tr>\n",
       "    <tr>\n",
       "      <td>663</td>\n",
       "      <td>410.0</td>\n",
       "      <td>2019-10-29 23:00:00</td>\n",
       "    </tr>\n",
       "    <tr>\n",
       "      <td>664</td>\n",
       "      <td>395.0</td>\n",
       "      <td>2019-10-30 00:00:00</td>\n",
       "    </tr>\n",
       "    <tr>\n",
       "      <td>665</td>\n",
       "      <td>395.0</td>\n",
       "      <td>2019-10-30 01:00:00</td>\n",
       "    </tr>\n",
       "    <tr>\n",
       "      <td>666</td>\n",
       "      <td>389.0</td>\n",
       "      <td>2019-10-30 02:00:00</td>\n",
       "    </tr>\n",
       "    <tr>\n",
       "      <td>667</td>\n",
       "      <td>378.0</td>\n",
       "      <td>2019-10-30 03:00:00</td>\n",
       "    </tr>\n",
       "    <tr>\n",
       "      <td>668</td>\n",
       "      <td>351.0</td>\n",
       "      <td>2019-10-30 04:00:00</td>\n",
       "    </tr>\n",
       "    <tr>\n",
       "      <td>669</td>\n",
       "      <td>320.0</td>\n",
       "      <td>2019-10-30 05:00:00</td>\n",
       "    </tr>\n",
       "    <tr>\n",
       "      <td>670</td>\n",
       "      <td>279.0</td>\n",
       "      <td>2019-10-30 06:00:00</td>\n",
       "    </tr>\n",
       "    <tr>\n",
       "      <td>671</td>\n",
       "      <td>268.0</td>\n",
       "      <td>2019-10-30 07:00:00</td>\n",
       "    </tr>\n",
       "    <tr>\n",
       "      <td>672</td>\n",
       "      <td>254.0</td>\n",
       "      <td>2019-10-30 08:00:00</td>\n",
       "    </tr>\n",
       "    <tr>\n",
       "      <td>673</td>\n",
       "      <td>219.0</td>\n",
       "      <td>2019-10-30 09:00:00</td>\n",
       "    </tr>\n",
       "    <tr>\n",
       "      <td>674</td>\n",
       "      <td>223.0</td>\n",
       "      <td>2019-10-30 10:00:00</td>\n",
       "    </tr>\n",
       "    <tr>\n",
       "      <td>675</td>\n",
       "      <td>244.0</td>\n",
       "      <td>2019-10-30 11:00:00</td>\n",
       "    </tr>\n",
       "    <tr>\n",
       "      <td>741</td>\n",
       "      <td>NaN</td>\n",
       "      <td>2019-10-30 12:00:00</td>\n",
       "    </tr>\n",
       "  </tbody>\n",
       "</table>\n",
       "</div>"
      ],
      "text/plain": [
       "      pm25          local_time\n",
       "642  415.0 2019-10-29 01:00:00\n",
       "643  383.0 2019-10-29 02:00:00\n",
       "644  331.0 2019-10-29 03:00:00\n",
       "645  300.0 2019-10-29 04:00:00\n",
       "646  282.0 2019-10-29 05:00:00\n",
       "647  254.0 2019-10-29 06:00:00\n",
       "648  291.0 2019-10-29 07:00:00\n",
       "740    NaN 2019-10-29 08:00:00\n",
       "649  250.0 2019-10-29 09:00:00\n",
       "650  265.0 2019-10-29 10:00:00\n",
       "651  283.0 2019-10-29 11:00:00\n",
       "652  280.0 2019-10-29 12:00:00\n",
       "653  287.0 2019-10-29 13:00:00\n",
       "654  298.0 2019-10-29 14:00:00\n",
       "655  318.0 2019-10-29 15:00:00\n",
       "656    NaN 2019-10-29 16:00:00\n",
       "657  326.0 2019-10-29 17:00:00\n",
       "658  326.0 2019-10-29 18:00:00\n",
       "659  392.0 2019-10-29 19:00:00\n",
       "660  374.0 2019-10-29 20:00:00\n",
       "661  393.0 2019-10-29 21:00:00\n",
       "662  398.0 2019-10-29 22:00:00\n",
       "663  410.0 2019-10-29 23:00:00\n",
       "664  395.0 2019-10-30 00:00:00\n",
       "665  395.0 2019-10-30 01:00:00\n",
       "666  389.0 2019-10-30 02:00:00\n",
       "667  378.0 2019-10-30 03:00:00\n",
       "668  351.0 2019-10-30 04:00:00\n",
       "669  320.0 2019-10-30 05:00:00\n",
       "670  279.0 2019-10-30 06:00:00\n",
       "671  268.0 2019-10-30 07:00:00\n",
       "672  254.0 2019-10-30 08:00:00\n",
       "673  219.0 2019-10-30 09:00:00\n",
       "674  223.0 2019-10-30 10:00:00\n",
       "675  244.0 2019-10-30 11:00:00\n",
       "741    NaN 2019-10-30 12:00:00"
      ]
     },
     "execution_count": 36,
     "metadata": {},
     "output_type": "execute_result"
    }
   ],
   "source": [
    "df_location[-360:-324]"
   ]
  },
  {
   "cell_type": "code",
   "execution_count": 123,
   "metadata": {},
   "outputs": [],
   "source": [
    "df_location.to_csv(\"/Users/masanoritakahashi/Documents/aqi/modefieddata/rohini_1024_pm25.csv\")"
   ]
  },
  {
   "cell_type": "code",
   "execution_count": null,
   "metadata": {},
   "outputs": [],
   "source": []
  }
 ],
 "metadata": {
  "kernelspec": {
   "display_name": "Python 3",
   "language": "python",
   "name": "python3"
  },
  "language_info": {
   "codemirror_mode": {
    "name": "ipython",
    "version": 3
   },
   "file_extension": ".py",
   "mimetype": "text/x-python",
   "name": "python",
   "nbconvert_exporter": "python",
   "pygments_lexer": "ipython3",
   "version": "3.7.3"
  }
 },
 "nbformat": 4,
 "nbformat_minor": 2
}
